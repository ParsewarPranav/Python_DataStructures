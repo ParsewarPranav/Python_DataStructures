{
  "nbformat": 4,
  "nbformat_minor": 0,
  "metadata": {
    "colab": {
      "provenance": []
    },
    "kernelspec": {
      "name": "python3",
      "display_name": "Python 3"
    },
    "language_info": {
      "name": "python"
    }
  },
  "cells": [
    {
      "cell_type": "code",
      "execution_count": null,
      "metadata": {
        "id": "k_XykFru_0A-"
      },
      "outputs": [],
      "source": []
    },
    {
      "cell_type": "markdown",
      "source": [
        "# **Data Types and Structures Questions**\n",
        "\n",
        "1. **What are data structures, and why are they important?**\n",
        "\n",
        " -> A data structure is a way of organizing and storing data in a computer so it can be used efficiently.\n",
        "\n",
        "  **Data Structructures are important**:\n",
        "\n",
        "  **Efficiency**: The right data structure makes programs run faster and use less\n",
        "  memory.\n",
        "\n",
        "  **Organized Data**: They help store, access, and update data in a logical way.\n",
        "\n",
        "  **Problem Solving**: Many real-world problems (like searching, sorting, routing, scheduling) rely on efficient data structures.\n",
        "\n",
        "  **Foundation for Algorithms**: Algorithms (step-by-step procedures) often need specific data structures to work properly.\n",
        "\n",
        "2.  **Explain the difference between mutable and immutable data types with examples .**\n",
        "\n",
        " -> 1. **Mutable Data Types**:\n",
        "   \n",
        "       **Definition**: These can be changed/modified after creation.\n",
        "\n",
        "       You can update, add, or remove elements without creating a new object.\n",
        "\n",
        "       Examples in Python: list, dict, set, bytearray\n",
        "\n",
        "       **Code example** :\n",
        "                  numbers = [1,2,3]\n",
        "       \n",
        "                  print(\"Before:\",numbers)\n",
        "\n",
        "                  numbers[0] = 10\n",
        "\n",
        "                  numbers.append(4)\n",
        "\n",
        "                  print(\"After:\",numbers)\n",
        "    2. **Immutable Data Types:**\n",
        "        Definition: These cannot be changed after creation.\n",
        "\n",
        "        If you try to modify them, a new object is created in memory.\n",
        "\n",
        "        Examples in Python:\n",
        "\n",
        "        int, float, string (str), tuple, frozenset, bytes\n",
        "\n",
        "        Code example:\n",
        "                   name = \"Alice\"\n",
        "                   print(\"Before:\", name)\n",
        "                   name = name + \" Smith\" # Trying to modify → creates a new string\n",
        "                   print(\"After:\", name)\n",
        "\n",
        "\n",
        "3. **What are the main differences between lists and tuples in Python?**\n",
        "  \n",
        "  -> List:\n",
        "     1. Mutable (can be changed)\n",
        "     2. Defined with [ ]\n",
        "     3. Slower (because of mutability)\n",
        "     4. Has many built-in methods append(), remove(), sort(), etc.\n",
        "     5. Use case : When data may need to change.\n",
        "\n",
        "     Tuple:\n",
        "     1. Immutable (cannot be changed)\n",
        "     2. Defined with ( )\n",
        "     3. Faster (because of immutability)\n",
        "     4. Limited methods (count(), index())\n",
        "     5. Use case: When data should remain constant.\n",
        "\n",
        "\n",
        "4. **Describe how dictionaries store data .**\n",
        "\n",
        "  -> A dictionary is a built-in Python data structure that stores data as key-value pairs.\n",
        "\n",
        "     Example: student = {\"name\": \"pranav\", \"age\": 20, \"grade\": \"A\"}\n",
        "\n",
        "     Here:   \n",
        "    \"name\", \"age\", \"grade\" → keys   \n",
        "    \"pranav\", 20, \"A\" → values\n",
        "\n",
        "  Dictionaries in Python use a hash table under the hood.     \n",
        "  1. Hashing the Key: When you insert a key, Python runs it through a hash function (using the built-in hash() function).\n",
        "\n",
        "     This converts the key into a unique integer (the hash value).\n",
        "\n",
        "  2. Finding a Storage Location\n",
        "\n",
        "     The hash value is mapped to an index in the dictionary's underlying table (like a slot in an array).\n",
        "\n",
        "  3. Storing the Key-Value Pair:\n",
        "\n",
        "     At that index, Python stores both the key and its value.   \n",
        "     Storing the key itself is important because two different keys might have the same hash (called a collision).\n",
        "\n",
        "  4. Handling Collisions:\n",
        "\n",
        "     If two keys map to the same index, Python uses techniques like open addressing to find another slot.\n",
        "\n",
        "  5.  Fast Lookup:\n",
        "\n",
        "     To find a value, Python re-computes the hash of the key and jumps directly to its index in constant time O(1).   \n",
        "\n",
        "\n",
        "5. **Why might you use a set instead of a list in Python ?**       \n",
        " ->  1. No Duplicates Allowed\n",
        "\n",
        "        A set automatically removes duplicates.\n",
        "\n",
        "        A list allows duplicates.\n",
        "\n",
        "     2. Faster Membership Testing\n",
        "\n",
        "       Checking if an item exists (in) is much faster in a set (average O(1)) because sets use hash tables.\n",
        "\n",
        "       Lists require searching through elements one by one (O(n)).\n",
        "\n",
        "     3. Built-in Set Operations\n",
        "\n",
        "      Sets support mathematical operations like union, intersection, and difference, which are not directly available for lists.\n",
        "\n",
        "\n",
        "6. **What is a string in Python, and how is it different from a list?**  \n",
        "   A string is a sequence of characters enclosed in quotes (' ' or \" \").   \n",
        "\n",
        "   Example: text = \"Hello, World!\"                 \n",
        "\n",
        "   How a String is Different from a List:        \n",
        "\n",
        "   Both strings and lists are sequences (we can index, slice, and iterate over them), but they differ in several ways:            \n",
        "   Contents - String holds only characters, list can hold mixed data types.\n",
        "\n",
        "   Mutability - String is immutable, list is mutable.\n",
        "\n",
        "   Syntax - String uses quotes \" \", list uses brackets [ ].\n",
        "\n",
        "   Methods - String has text methods, list has collection methods.\n",
        "\n",
        "   Use - String for text, list for collections.\n",
        "\n",
        "\n",
        "7.  **How do tuples ensure data integrity in Python?**      \n",
        "\n",
        "  -> Immutability - A tuple is immutable, meaning once it is created, its elements cannot be changed, added, or removed. This prevents accidental modifications to the data.\n",
        "\n",
        "  Predictability - Since the data inside a tuple cannot be altered, it guarantees that the information remains consistent throughout the program.\n",
        "\n",
        "  Safe for Keys - Tuples can be used as keys in dictionaries or elements in sets (unlike lists), because their immutability ensures they always hash to the same value.\n",
        "\n",
        "\n",
        "8. **What is a hash table, and how does it relate to dictionaries in Python**\n",
        "\n",
        "-> A hash table is a data structure that stores data in key-value pairs and provides very fast lookups, insertions, and deletions (on average O(1) time).\n",
        "\n",
        "   It works like this:\n",
        "\n",
        "   A hash function converts the key into a unique number (called a hash value).\n",
        "\n",
        "   That number decides where the key-value pair is stored in an underlying array (a “slot” or “bucket”).\n",
        "\n",
        "  When you want to retrieve the value, Python uses the same hash function on the key and jumps directly to its storage location.\n",
        "\n",
        "  How It Relates to Dictionaries in Python:     \n",
        "  Python's dict (dictionary) is implemented internally using a hash table.\n",
        "\n",
        "  Each key in a dictionary is hashed, and the resulting hash value determines where the value is stored.\n",
        "\n",
        "  This is why:\n",
        "\n",
        "  Dictionary lookups (value = mydict[key]) are extremely fast.\n",
        "\n",
        "  Keys must be immutable (like strings, numbers, or tuples), so their hash value doesn't change.\n",
        "\n",
        "\n",
        "9. **Can lists contain different data types in Python?**\n",
        "\n",
        "  ->   Yes In Python, lists can contain different data types because Python is a   dynamically typed language.\n",
        "\n",
        "   That means a single list can hold integers, floats, strings, booleans, other lists, even objects all together.\n",
        "\n",
        "   example: mixed_list = [10, 3.14, \"Hello\", True, [1, 2, 3]]\n",
        "\n",
        "10. *Explain why strings are immutable in Python? **bold text**   \n",
        "\n",
        "  -> Memory Efficiency (Reusability) -\n",
        "\n",
        "     Python stores many identical strings in the same memory location (string interning).\n",
        "\n",
        "     If strings were mutable, changing one string could unintentionally change all other references.\n",
        "\n",
        "     Immutability avoids this problem.\n",
        "\n",
        "     Hashability (Dictionary & Set Keys)-\n",
        "\n",
        "     Strings are often used as keys in dictionaries and elements in sets.\n",
        "\n",
        "     To work correctly, keys must always give the same hash value.\n",
        "\n",
        "     If strings could change, their hash value would also change → breaking dictionary lookups.\n",
        "\n",
        "     Safety and Reliability -\n",
        "\n",
        "     Strings represent text (like names, file paths, URLs).\n",
        "\n",
        "     If they were mutable, accidental changes could introduce bugs or security risks.\n",
        "\n",
        "     Immutability guarantees that once created, a string stays the same.\n",
        "\n",
        "     Performance-\n",
        "\n",
        "     Since strings don't change, Python can optimize their storage and make operations like comparison and caching faster.\n",
        "\n",
        "\n",
        "11. **What advantages do dictionaries offer over lists for certain tasks ?**      \n",
        "  -> Advantages of Dictionaries Over Lists\n",
        "\n",
        "     1. Fast Lookups (O(1))\n",
        "\n",
        "     In a list, searching for an item takes O(n) time because Python checks each element one by one.\n",
        "\n",
        "     In a dictionary, looking up a value by key is O(1) on average because it uses a hash table.\n",
        "\n",
        "     2. Key-Value Pair Storage\n",
        "\n",
        "     Lists only store values with integer indexes (0, 1, 2...).\n",
        "\n",
        "     Dictionaries store data as key-value pairs, making data more descriptive and easier to understand.\n",
        "\n",
        "     3. Better Organization of Data\n",
        "\n",
        "        Dictionaries let you access data by meaningful keys instead of numeric indexes.\n",
        "\n",
        "        This makes code more readable and easier to maintain.\n",
        "\n",
        "      4. Flexibility of Keys\n",
        "\n",
        "        Dictionary keys can be strings, numbers, or even tuples (as long as they're immutable).\n",
        "\n",
        "        Lists can only be accessed by numeric indexes.\n",
        "\n",
        "\n",
        "12. **Describe a scenario where using a tuple would be preferable over a list.**    \n",
        "  -> Prefer to use a tuple over a list when you have a collection of items that should not change.\n",
        "     Tuples are immutable, meaning their elements cannot be changed after creation.This ensures data integrity.\n",
        "     A list, being mutable, would allow this change, which could lead to errors in a program where the point's coordinates are assumed to be fixed.\n",
        "\n",
        "     Tuples are generally more memory-efficient and faster to process than lists. This is because their fixed size allows Python to make certain optimizations.\n",
        "     While the performance difference is often negligible for small collections, it can add up in programs that handle a large number of such objects\n",
        "     Example :\n",
        "     Tuple as a dictionary key\n",
        "     locations = {\n",
        "      (40.7128, -74.0060): \"New York\",\n",
        "      (34.0522, -118.2437): \"Los Angeles\"\n",
        "      }\n",
        "      print(locations[(40.7128, -74.0060)])  # New York\n",
        "\n",
        "\n",
        "13. **How do sets handle duplicate values in Python?**     \n",
        " -> 1.Uniqueness Rule:      \n",
        "      A set in Python automatically removes duplicates.      \n",
        "      It only keeps unique values.   \n",
        "\n",
        "     2.How It Works Internally:          \n",
        "      Sets use a hash table (like dictionaries).     \n",
        "      When you add an element, Python checks its hash value.         \n",
        "      If the element is already present (same hash + equality check), it is not added again.\n",
        "\n",
        "      3.Example:\n",
        "        numbers = {1, 2, 2, 3, 4, 4, 5}        \n",
        "        print(numbers)\n",
        "\n",
        "        Output = {1, 2, 3, 4, 5}\n",
        "\n",
        "\n",
        "14. **How does the “in” keyword work differently for lists and dictionaries?**     \n",
        " -> 1.in with Lists :    \n",
        "      Checks whether a value exists in the list.     \n",
        "      Time complexity: O(n) (because it may need to scan the whole list).      \n",
        "      Example :      \n",
        "       fruits = [\"apple\", \"banana\", \"cherry\"]        \n",
        "      print(\"apple\" in fruits)   #  True (value found)        \n",
        "      print(\"grape\" in fruits)   #  False\n",
        "\n",
        "\n",
        "     2.in with Dictionaries :    \n",
        "      By default, in checks whether a key exists in the dictionary, not the value.         \n",
        "     Time complexity: O(1) on average (because dictionaries use a hash table).\n",
        "     Example :\n",
        "      student = {\"name\": \"Alice\", \"age\": 21, \"grade\": \"A\"}         \n",
        "     print(\"name\" in student)   #  True (key exists)\n",
        "     print(\"Alice\" in student)  #  False (value, not key)\n",
        "\n",
        "\n",
        "15. **Can you modify the elements of a tuple? Explain why or why not.**     \n",
        " ->  No , you cannot modify the elements of a tuple in Python.          \n",
        "     Why Not?               \n",
        "     Tuples are immutable, meaning once created, their elements cannot be changed, added, or removed.          \n",
        "     Tuples are often used to store fixed collections of data (like coordinates, dates, or configuration values). Immutability ensures that the data remains safe and unchanged.            \n",
        "     Because tuples are immutable, they can be used as keys in dictionaries or as elements in sets (lists cannot be).\n",
        "\n",
        "\n",
        "16. **What is a nested dictionary, and give an example of its use case.**        \n",
        "  -> A nested dictionary is a dictionary inside another dictionary.\n",
        "\n",
        "     In Python, this means each key in the outer dictionary maps to another dictionary as its value.\n",
        "\n",
        "     It's useful for storing hierarchical or structured data.\n",
        "\n",
        "     Use case: Student Database → Store details of students (name, age, grade) under their roll numbers.\n",
        "\n",
        "     Example:               \n",
        "     students = {\n",
        "    \"101\": {\"name\": \"Alice\", \"age\": 21, \"grade\": \"A\"},            \n",
        "    \"102\": {\"name\": \"Bob\", \"age\": 22, \"grade\": \"B\"},                \n",
        "    \"103\": {\"name\": \"Charlie\", \"age\": 20, \"grade\": \"A\"}                    \n",
        "}\n",
        "\n",
        "     print(students[\"101\"][\"name\"])         # Alice               \n",
        "     print(students[\"102\"][\"grade\"])        # B\n",
        "\n",
        "\n",
        "\n",
        "\n",
        "17.  **Describe the time complexity of accessing elements in a dictionary**        \n",
        "  ->  Accessing Elements in a Dictionary                 \n",
        "      Dictionaries in Python are implemented using a hash table.              \n",
        "      When you access an element using a key (mydict[key]), Python:          \n",
        "      Computes the hash of the key.\n",
        "      Uses the hash to find the correct index (slot) in the hash table. Retrieves the value directly.\n",
        "\n",
        "      Time Complexity                             \n",
        "\n",
        "      Average Case: O(1) (constant time) → Lookups are very fast because Python doesn’t scan the whole dictionary.                    \n",
        "\n",
        "      Worst Case: O(n) → Rare, happens when many keys collide into the same hash bucket. Python then has to check multiple items.\n",
        "\n",
        "      Example:                     \n",
        "      student = {\"name\": \"Alice\", \"age\": 21, \"grade\": \"A\"}                    \n",
        "\n",
        "      print(student[\"name\"])   # O(1) average case\n",
        "\n",
        "\n",
        "\n",
        "18.  **In what situations are lists preferred over dictionaries**             \n",
        " ->  1.When Order Matters          \n",
        "        Lists maintain the order of elements (insertion order).           \n",
        "        Dictionaries also preserve insertion order (since Python 3.7+), but lists are simpler and more natural for ordered collections like queues or stacks.\n",
        "\n",
        "     2.When You Need Duplicates                     \n",
        "     Lists allow duplicate elements.               \n",
        "     Dictionaries require unique keys.\n",
        "\n",
        "     3.When You Rely on Indexing               \n",
        "     Lists support fast access by numeric index (e.g., mylist[0]).           \n",
        "     Dictionaries use keys, not indexes, so they’re less convenient when position matters.\n",
        "\n",
        "\n",
        " 19.  **Why are dictionaries considered unordered, and how does that affect data retrieval**              \n",
        " ->  A dictionary stores data using a hash table.                \n",
        "     Keys are placed into “buckets” based on their hash value, not their insertion sequence.                    \n",
        "     Because of this, historically (before Python 3.7), dictionaries did not preserve the order of items.\n",
        "     How This Affects Data Retrieval             \n",
        "     1.Fast Lookups by Key                  \n",
        "     Retrieval is based on the key's hash, not its position.              \n",
        "     This makes lookups O(1) on average.                 \n",
        "     2.Access by Key, Not Index               \n",
        "     Unlike lists, dictionaries do not support numeric indexing (mydict[0] won't work).                            \n",
        "     Instead, you always retrieve data by key: mydict[\"name\"].\n",
        "\n",
        "\n",
        "20.  **Explain the difference between a list and a dictionary in terms of data retrieval.**                    \n",
        " ->  1.List Retrieval\n",
        "       Lists use numeric indexes (0, 1, 2, ...) to retrieve elements.             \n",
        "        Retrieval by index is fast (O(1)), but searching for a specific value requires scanning the whole list (O(n)).\n",
        "\n",
        "      Code : fruits = [\"apple\", \"banana\", \"cherry\"]\n",
        "             print(fruits[1])      # banana (by index)\n",
        "             print(\"cherry\" in fruits)  # O(n) search\n",
        "\n",
        "     2.Dictionary Retrieval                \n",
        "     Dictionaries use keys (not indexes) to retrieve values.             \n",
        "     Lookup by key is very fast (O(1) average) because of the hash table implementation.                             \n",
        "     But dictionaries do not allow access by numeric position like lists.    \n",
        "     Code : student = {\"name\": \"Alice\", \"age\": 21}\n",
        "            print(student[\"name\"])   # Alice (by key)\n",
        "\n",
        "\n",
        "\n",
        "\n",
        "\n",
        "      \n",
        "\n",
        "\n",
        "\n",
        "\n",
        "\n",
        "\n",
        "\n",
        "\n",
        "\n",
        "\n",
        "  \n",
        "\n",
        "\n",
        "       \n",
        "\n",
        "\n",
        "\n",
        "\n",
        "\n",
        "\n",
        "\n",
        "\n"
      ],
      "metadata": {
        "id": "wYt9B89a_5bM"
      }
    },
    {
      "cell_type": "markdown",
      "source": [],
      "metadata": {
        "id": "lBoSE1Q9BocJ"
      }
    },
    {
      "cell_type": "code",
      "source": [
        "# Write a code to create a string with your name and print it\n",
        "name = \"Pranav Parsewar\"\n",
        "print(name)\n"
      ],
      "metadata": {
        "colab": {
          "base_uri": "https://localhost:8080/"
        },
        "id": "0jE0ypIcBm-_",
        "outputId": "d3c5e64f-9134-4f77-f4ca-1eb7496bdea5"
      },
      "execution_count": 1,
      "outputs": [
        {
          "output_type": "stream",
          "name": "stdout",
          "text": [
            "Pranav Parsewar\n"
          ]
        }
      ]
    },
    {
      "cell_type": "code",
      "source": [
        "# 2. Write a code to find the length of the string \"Hello World\"\n",
        "text = \"Hello World\"\n",
        "print(len(text))\n"
      ],
      "metadata": {
        "colab": {
          "base_uri": "https://localhost:8080/"
        },
        "id": "qyBvZel2dyhi",
        "outputId": "d9434f15-73fe-45e2-a5d6-8ad25ebc072a"
      },
      "execution_count": 2,
      "outputs": [
        {
          "output_type": "stream",
          "name": "stdout",
          "text": [
            "11\n"
          ]
        }
      ]
    },
    {
      "cell_type": "code",
      "source": [
        "# 3.Write a code to slice the first 3 characters from the string \"Python Programming\"\n",
        "text = \"Python Programming\"\n",
        "print(text[:3])\n"
      ],
      "metadata": {
        "colab": {
          "base_uri": "https://localhost:8080/"
        },
        "id": "xYisCJekd4vR",
        "outputId": "6de12609-0f09-4f7e-a3dd-6db61b9c1135"
      },
      "execution_count": 3,
      "outputs": [
        {
          "output_type": "stream",
          "name": "stdout",
          "text": [
            "Pyt\n"
          ]
        }
      ]
    },
    {
      "cell_type": "code",
      "source": [
        "# 4.Write a code to convert the string \"hello\" to uppercase\n",
        "text = \"hello\"\n",
        "print(text.upper())   # 'HELLO'\n",
        "\n"
      ],
      "metadata": {
        "colab": {
          "base_uri": "https://localhost:8080/"
        },
        "id": "b-L4ZjvZd8hh",
        "outputId": "228b6f1a-7f90-491e-d424-dfda539ac3c3"
      },
      "execution_count": 4,
      "outputs": [
        {
          "output_type": "stream",
          "name": "stdout",
          "text": [
            "HELLO\n"
          ]
        }
      ]
    },
    {
      "cell_type": "code",
      "source": [
        "# 5.  Write a code to replace the word \"apple\" with \"orange\" in the string \"I like apple\"\n",
        "text = \"I like apple\"\n",
        "print(text.replace(\"apple\", \"orange\"))\n"
      ],
      "metadata": {
        "colab": {
          "base_uri": "https://localhost:8080/"
        },
        "id": "i7ZhtYFXd__f",
        "outputId": "d5b5dd51-d7d6-41a7-c598-98c545f35ab0"
      },
      "execution_count": 5,
      "outputs": [
        {
          "output_type": "stream",
          "name": "stdout",
          "text": [
            "I like orange\n"
          ]
        }
      ]
    },
    {
      "cell_type": "code",
      "source": [
        "# 6. Write a code to create a list with numbers 1 to 5 and print it\n",
        "numbers = [1, 2, 3, 4, 5]\n",
        "print(numbers)\n"
      ],
      "metadata": {
        "colab": {
          "base_uri": "https://localhost:8080/"
        },
        "id": "6PWBbESBennr",
        "outputId": "d99611f7-3b11-4a2a-ecac-e7fa9fb59378"
      },
      "execution_count": 6,
      "outputs": [
        {
          "output_type": "stream",
          "name": "stdout",
          "text": [
            "[1, 2, 3, 4, 5]\n"
          ]
        }
      ]
    },
    {
      "cell_type": "code",
      "source": [
        "# 7. Write a code to append the number 10 to the list [1, 2, 3, 4]\n",
        "numbers = [1, 2, 3, 4]\n",
        "numbers.append(10)\n",
        "print(numbers)\n"
      ],
      "metadata": {
        "colab": {
          "base_uri": "https://localhost:8080/"
        },
        "id": "8zaG9J0Pen8n",
        "outputId": "97f229a9-5c49-46e1-9300-17c0c3175151"
      },
      "execution_count": 7,
      "outputs": [
        {
          "output_type": "stream",
          "name": "stdout",
          "text": [
            "[1, 2, 3, 4, 10]\n"
          ]
        }
      ]
    },
    {
      "cell_type": "code",
      "source": [
        "# 8. Write a code to remove the number 3 from the list [1, 2, 3, 4, 5]\n",
        "numbers = [1, 2, 3, 4, 5]\n",
        "numbers.remove(3)\n",
        "print(numbers)\n"
      ],
      "metadata": {
        "colab": {
          "base_uri": "https://localhost:8080/"
        },
        "id": "hpL0EGiwewBF",
        "outputId": "217a761f-7186-4f2b-bae5-19a8cd224004"
      },
      "execution_count": 8,
      "outputs": [
        {
          "output_type": "stream",
          "name": "stdout",
          "text": [
            "[1, 2, 4, 5]\n"
          ]
        }
      ]
    },
    {
      "cell_type": "code",
      "source": [
        "# 9. Write a code to access the second element in the list ['a', 'b', 'c', 'd']\n",
        "letters = ['a', 'b', 'c', 'd']\n",
        "print(letters[1])\n"
      ],
      "metadata": {
        "colab": {
          "base_uri": "https://localhost:8080/"
        },
        "id": "4SG1HliUey5o",
        "outputId": "6f5649ce-b154-43c7-ca7a-0dd61b214952"
      },
      "execution_count": 9,
      "outputs": [
        {
          "output_type": "stream",
          "name": "stdout",
          "text": [
            "b\n"
          ]
        }
      ]
    },
    {
      "cell_type": "code",
      "source": [
        "# 10. Write a code to reverse the list [10, 20, 30, 40, 50].\n",
        "numbers = [10, 20, 30, 40, 50]\n",
        "numbers.reverse()\n",
        "print(numbers)\n"
      ],
      "metadata": {
        "colab": {
          "base_uri": "https://localhost:8080/"
        },
        "id": "V3fj8k2he1l1",
        "outputId": "7341d3ee-24ef-4b8b-b9f0-f8a4a4b0f30d"
      },
      "execution_count": 10,
      "outputs": [
        {
          "output_type": "stream",
          "name": "stdout",
          "text": [
            "[50, 40, 30, 20, 10]\n"
          ]
        }
      ]
    },
    {
      "cell_type": "code",
      "source": [
        "#11. Write a code to create a tuple with the elements 100, 200, 300 and print it.\n",
        "my_tuple = (100, 200, 300)\n",
        "print(my_tuple)\n"
      ],
      "metadata": {
        "colab": {
          "base_uri": "https://localhost:8080/"
        },
        "id": "qfn6tBrwfXR3",
        "outputId": "21a91717-b0f5-410a-ec0e-03e92e45b95e"
      },
      "execution_count": 11,
      "outputs": [
        {
          "output_type": "stream",
          "name": "stdout",
          "text": [
            "(100, 200, 300)\n"
          ]
        }
      ]
    },
    {
      "cell_type": "code",
      "source": [
        "#12. Write a code to access the second-to-last element of the tuple ('red', 'green', 'blue', 'yellow')\n",
        "colors = ('red', 'green', 'blue', 'yellow')\n",
        "print(colors[-2])\n"
      ],
      "metadata": {
        "colab": {
          "base_uri": "https://localhost:8080/"
        },
        "id": "n3Qp1Z7dfXbs",
        "outputId": "c5e33d65-889a-4ac6-a7eb-0b9cf850d78d"
      },
      "execution_count": 12,
      "outputs": [
        {
          "output_type": "stream",
          "name": "stdout",
          "text": [
            "blue\n"
          ]
        }
      ]
    },
    {
      "cell_type": "code",
      "source": [
        "#13. Write a code to find the minimum number in the tuple (10, 20, 5, 15).\n",
        "numbers = (10, 20, 5, 15)\n",
        "print(min(numbers))\n"
      ],
      "metadata": {
        "colab": {
          "base_uri": "https://localhost:8080/"
        },
        "id": "WWMkDfcgfXjv",
        "outputId": "9ca36c68-27dc-4ec2-ccdd-b0eed63bd8bc"
      },
      "execution_count": 13,
      "outputs": [
        {
          "output_type": "stream",
          "name": "stdout",
          "text": [
            "5\n"
          ]
        }
      ]
    },
    {
      "cell_type": "code",
      "source": [
        "#14. Write a code to find the index of the element \"cat\" in the tuple ('dog', 'cat', 'rabbit').\n",
        "animals = ('dog', 'cat', 'rabbit')\n",
        "print(animals.index(\"cat\"))\n"
      ],
      "metadata": {
        "colab": {
          "base_uri": "https://localhost:8080/"
        },
        "id": "stTQufuzfXvB",
        "outputId": "8dad80a9-639b-4511-cb26-41975f621e50"
      },
      "execution_count": 14,
      "outputs": [
        {
          "output_type": "stream",
          "name": "stdout",
          "text": [
            "1\n"
          ]
        }
      ]
    },
    {
      "cell_type": "code",
      "source": [
        "#15. Write a code to create a tuple containing three different fruits and check if \"kiwi\" is in it.\n",
        "fruits = (\"apple\", \"banana\", \"mango\")\n",
        "print(\"kiwi\" in fruits)\n"
      ],
      "metadata": {
        "colab": {
          "base_uri": "https://localhost:8080/"
        },
        "id": "QIPvBpQCfX5F",
        "outputId": "1ade5da6-aa31-4e20-e7f8-a31d23efc855"
      },
      "execution_count": 15,
      "outputs": [
        {
          "output_type": "stream",
          "name": "stdout",
          "text": [
            "False\n"
          ]
        }
      ]
    },
    {
      "cell_type": "code",
      "source": [
        "#16. Write a code to create a set with the elements 'a', 'b', 'c' and print it.\n",
        "my_set = {'a', 'b', 'c'}\n",
        "print(my_set)\n"
      ],
      "metadata": {
        "colab": {
          "base_uri": "https://localhost:8080/"
        },
        "id": "jKp2iowVfYDW",
        "outputId": "63fafc7d-c394-404c-ab35-dc10959c757d"
      },
      "execution_count": 16,
      "outputs": [
        {
          "output_type": "stream",
          "name": "stdout",
          "text": [
            "{'a', 'b', 'c'}\n"
          ]
        }
      ]
    },
    {
      "cell_type": "code",
      "source": [
        "#17. Write a code to clear all elements from the set {1, 2, 3, 4, 5}.\n",
        "numbers = {1, 2, 3, 4, 5}\n",
        "numbers.clear()\n",
        "print(numbers)\n"
      ],
      "metadata": {
        "colab": {
          "base_uri": "https://localhost:8080/"
        },
        "id": "y91uGvBTfYNU",
        "outputId": "7d22f84f-d71e-45fb-8479-e5f827cd0ef6"
      },
      "execution_count": 17,
      "outputs": [
        {
          "output_type": "stream",
          "name": "stdout",
          "text": [
            "set()\n"
          ]
        }
      ]
    },
    {
      "cell_type": "code",
      "source": [
        "#18. Write a code to remove the element 4 from the set {1, 2, 3, 4}.\n",
        "numbers = {1, 2, 3, 4}\n",
        "numbers.remove(4)\n",
        "print(numbers)\n"
      ],
      "metadata": {
        "colab": {
          "base_uri": "https://localhost:8080/"
        },
        "id": "wYLs9ErvfYWU",
        "outputId": "d1781bd9-e3ec-4250-9946-1bb693d0a446"
      },
      "execution_count": 18,
      "outputs": [
        {
          "output_type": "stream",
          "name": "stdout",
          "text": [
            "{1, 2, 3}\n"
          ]
        }
      ]
    },
    {
      "cell_type": "code",
      "source": [
        "#19. Write a code to find the union of two sets {1, 2, 3} and {3, 4, 5}.\n",
        "a = {1, 2, 3}\n",
        "b = {3, 4, 5}\n",
        "print(a | b)\n"
      ],
      "metadata": {
        "colab": {
          "base_uri": "https://localhost:8080/"
        },
        "id": "xEws3MbsfYfA",
        "outputId": "0ffc3359-59e7-49f3-cadc-8df454f8cb32"
      },
      "execution_count": 19,
      "outputs": [
        {
          "output_type": "stream",
          "name": "stdout",
          "text": [
            "{1, 2, 3, 4, 5}\n"
          ]
        }
      ]
    },
    {
      "cell_type": "code",
      "source": [
        "#20. Write a code to find the intersection of two sets {1, 2, 3} and {2, 3, 4}.\n",
        "a = {1, 2, 3}\n",
        "b = {2, 3, 4}\n",
        "print(a & b)\n"
      ],
      "metadata": {
        "colab": {
          "base_uri": "https://localhost:8080/"
        },
        "id": "EMM5rlKCfYog",
        "outputId": "e9afc7c5-bf63-4987-cc47-d1dbe3df7dcb"
      },
      "execution_count": 20,
      "outputs": [
        {
          "output_type": "stream",
          "name": "stdout",
          "text": [
            "{2, 3}\n"
          ]
        }
      ]
    },
    {
      "cell_type": "code",
      "source": [
        "# 21. Write a code to create a dictionary with the keys \"name\", \"age\", and \"city\", and print it.\n",
        "person = {\"name\": \"pranav\", \"age\": 25, \"city\": \"New York\"}\n",
        "print(person)\n"
      ],
      "metadata": {
        "colab": {
          "base_uri": "https://localhost:8080/"
        },
        "id": "xVvqejhXfYx8",
        "outputId": "36d5d4ab-4d64-4449-9dab-d89f31cf0851"
      },
      "execution_count": 21,
      "outputs": [
        {
          "output_type": "stream",
          "name": "stdout",
          "text": [
            "{'name': 'pranav', 'age': 25, 'city': 'New York'}\n"
          ]
        }
      ]
    },
    {
      "cell_type": "code",
      "source": [
        "# 22. Write a code to add a new key-value pair \"country\": \"USA\" to the dictionary {'name': 'John', 'age': 25}.\n",
        "person = {'name': 'pranav', 'age': 25}\n",
        "person[\"country\"] = \"USA\"\n",
        "print(person)\n",
        "\n"
      ],
      "metadata": {
        "colab": {
          "base_uri": "https://localhost:8080/"
        },
        "id": "GjXThWLVfY78",
        "outputId": "53fef10c-3595-4a00-fb33-d649add1f02b"
      },
      "execution_count": 22,
      "outputs": [
        {
          "output_type": "stream",
          "name": "stdout",
          "text": [
            "{'name': 'pranav', 'age': 25, 'country': 'USA'}\n"
          ]
        }
      ]
    },
    {
      "cell_type": "code",
      "source": [
        "# 23. Write a code to access the value associated with the key \"name\" in the dictionary {'name': 'Alice', 'age': 30}.\n",
        "student = {'name': 'Alice', 'age': 30}\n",
        "print(student[\"name\"])\n",
        "\n"
      ],
      "metadata": {
        "colab": {
          "base_uri": "https://localhost:8080/"
        },
        "id": "Cg4t_RZrfZE5",
        "outputId": "d47e3413-8759-4161-ac9c-90c9c86c8f22"
      },
      "execution_count": 23,
      "outputs": [
        {
          "output_type": "stream",
          "name": "stdout",
          "text": [
            "Alice\n"
          ]
        }
      ]
    },
    {
      "cell_type": "code",
      "source": [
        "# 24. Write a code to remove the key \"age\" from the dictionary {'name': 'Bob', 'age': 22, 'city': 'New York'}.\n",
        "person = {'name': 'Bob', 'age': 22, 'city': 'New York'}\n",
        "person.pop(\"age\")\n",
        "print(person)\n",
        "\n",
        "\n",
        "\n"
      ],
      "metadata": {
        "colab": {
          "base_uri": "https://localhost:8080/"
        },
        "id": "wTDYCkx3fZNs",
        "outputId": "dd2ca6f3-5d55-461d-c4c5-c6ae5ea29fab"
      },
      "execution_count": 24,
      "outputs": [
        {
          "output_type": "stream",
          "name": "stdout",
          "text": [
            "{'name': 'Bob', 'city': 'New York'}\n"
          ]
        }
      ]
    },
    {
      "cell_type": "code",
      "source": [
        "# 25. Write a code to check if the key \"city\" exists in the dictionary {'name': 'Alice', 'city': 'Paris'}.\n",
        "person = {'name': 'Alice', 'city': 'Paris'}\n",
        "print(\"city\" in person)\n"
      ],
      "metadata": {
        "colab": {
          "base_uri": "https://localhost:8080/"
        },
        "id": "tcgOUed2fZV9",
        "outputId": "9ca8d81f-1a15-4b47-daee-7f8c162be23a"
      },
      "execution_count": 25,
      "outputs": [
        {
          "output_type": "stream",
          "name": "stdout",
          "text": [
            "True\n"
          ]
        }
      ]
    },
    {
      "cell_type": "code",
      "source": [
        "# 26. Write a code to create a list, a tuple, and a dictionary, and print them all.\n",
        "my_list = [1, 2, 3]\n",
        "my_tuple = (4, 5, 6)\n",
        "my_dict = {\"a\": 10, \"b\": 20}\n",
        "\n",
        "print(my_list)\n",
        "print(my_tuple)\n",
        "print(my_dict)\n"
      ],
      "metadata": {
        "colab": {
          "base_uri": "https://localhost:8080/"
        },
        "id": "_EMuglYEfZdu",
        "outputId": "653d4cd9-db70-40d1-9465-4479d1262cb4"
      },
      "execution_count": 26,
      "outputs": [
        {
          "output_type": "stream",
          "name": "stdout",
          "text": [
            "[1, 2, 3]\n",
            "(4, 5, 6)\n",
            "{'a': 10, 'b': 20}\n"
          ]
        }
      ]
    },
    {
      "cell_type": "code",
      "source": [
        "# 27. Write a code to create a list of 5 random numbers between 1 and 100, sort it in ascending order, and print the result.(replaced)\n",
        "import random\n",
        "\n",
        "numbers = random.sample(range(1, 101), 5)\n",
        "numbers.sort()\n",
        "print(numbers)\n",
        "\n"
      ],
      "metadata": {
        "colab": {
          "base_uri": "https://localhost:8080/"
        },
        "id": "ADjcyYblfZlg",
        "outputId": "b6384683-35fc-4ee8-e71a-911c41db9d47"
      },
      "execution_count": 27,
      "outputs": [
        {
          "output_type": "stream",
          "name": "stdout",
          "text": [
            "[16, 34, 80, 81, 100]\n"
          ]
        }
      ]
    },
    {
      "cell_type": "code",
      "source": [
        "# 28. Write a code to create a list with strings and print the element at the third index.\n",
        "words = [\"apple\", \"banana\", \"cherry\", \"date\", \"fig\"]\n",
        "print(words[3])\n"
      ],
      "metadata": {
        "colab": {
          "base_uri": "https://localhost:8080/"
        },
        "id": "WmWon9rOfZtV",
        "outputId": "ade3bc7c-5642-42a4-9bc5-cb777adcb248"
      },
      "execution_count": 28,
      "outputs": [
        {
          "output_type": "stream",
          "name": "stdout",
          "text": [
            "date\n"
          ]
        }
      ]
    },
    {
      "cell_type": "code",
      "source": [
        "# 29. Write a code to combine two dictionaries into one and print the result.\n",
        "dict1 = {\"a\": 1, \"b\": 2}\n",
        "dict2 = {\"c\": 3, \"d\": 4}\n",
        "\n",
        "combined = {**dict1, **dict2}\n",
        "print(combined)\n",
        "\n"
      ],
      "metadata": {
        "colab": {
          "base_uri": "https://localhost:8080/"
        },
        "id": "Hu6_WHtffZ0Y",
        "outputId": "1a553654-ffd3-4649-baf5-ec4cf4c0fccf"
      },
      "execution_count": 29,
      "outputs": [
        {
          "output_type": "stream",
          "name": "stdout",
          "text": [
            "{'a': 1, 'b': 2, 'c': 3, 'd': 4}\n"
          ]
        }
      ]
    },
    {
      "cell_type": "code",
      "source": [
        "# 30. Write a code to convert a list of strings into a set.\n",
        "fruits = [\"apple\", \"banana\", \"apple\", \"cherry\"]\n",
        "fruit_set = set(fruits)\n",
        "print(fruit_set)\n",
        "\n"
      ],
      "metadata": {
        "colab": {
          "base_uri": "https://localhost:8080/"
        },
        "id": "chFjx-TPfZ8Z",
        "outputId": "30e8dcbf-8d77-46bf-d08a-c431022e31fd"
      },
      "execution_count": 30,
      "outputs": [
        {
          "output_type": "stream",
          "name": "stdout",
          "text": [
            "{'apple', 'cherry', 'banana'}\n"
          ]
        }
      ]
    }
  ]
}